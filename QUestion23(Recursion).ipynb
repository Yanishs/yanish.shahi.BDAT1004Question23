{
 "cells": [
  {
   "cell_type": "markdown",
   "id": "ff13135a",
   "metadata": {},
   "source": [
    "Develop a recursive function tough() that takes two nonnegative integer arguments and outputs a pattern as shown below. Hint: The first argument represents the indentation of the pattern, where the second argument -- always a pattern of 2 indicates the number *s in the longest line of *s in the pattern"
   ]
  },
  {
   "cell_type": "code",
   "execution_count": 4,
   "id": "fc216afd",
   "metadata": {},
   "outputs": [
    {
     "name": "stdout",
     "output_type": "stream",
     "text": [
      "*\n",
      "**\n",
      "  *\n",
      "***\n",
      "   *\n",
      "   **\n",
      "     *\n"
     ]
    }
   ],
   "source": [
    "def tough(indent, length):\n",
    "    if length == 0:\n",
    "        return\n",
    "    tough(indent, length - 1)\n",
    "    print(\" \" * indent + \"*\" * length)\n",
    "    tough(indent + length, length - 1)\n",
    "\n",
    "tough(0, 3)"
   ]
  },
  {
   "cell_type": "code",
   "execution_count": null,
   "id": "df0a938b",
   "metadata": {},
   "outputs": [],
   "source": []
  }
 ],
 "metadata": {
  "kernelspec": {
   "display_name": "Python 3 (ipykernel)",
   "language": "python",
   "name": "python3"
  },
  "language_info": {
   "codemirror_mode": {
    "name": "ipython",
    "version": 3
   },
   "file_extension": ".py",
   "mimetype": "text/x-python",
   "name": "python",
   "nbconvert_exporter": "python",
   "pygments_lexer": "ipython3",
   "version": "3.11.4"
  }
 },
 "nbformat": 4,
 "nbformat_minor": 5
}
